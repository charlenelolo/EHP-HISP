{
 "cells": [
  {
   "cell_type": "markdown",
   "id": "61e2e462",
   "metadata": {},
   "source": [
    "# Evaluating the impact of HISP: Difference-in-Differecnes"
   ]
  },
  {
   "cell_type": "markdown",
   "id": "865d10ea",
   "metadata": {},
   "source": [
    "In the design of HISP, there are two rounds of data on two groups of households: one group that enrolled in the program, and the another that did not. As in the case of the enrolled and non-enrolled groups, <b>we realized that we cannot simply compare the average health expentidures of the two groups beacuase of selection bias.</b> As we have data for two periods for wach household in the sample, we can use those data to solve some of these challenges by comparing the change in health expenditures for the two groups."
   ]
  },
  {
   "cell_type": "markdown",
   "id": "b657f59e",
   "metadata": {},
   "source": [
    "# Set up"
   ]
  },
  {
   "cell_type": "markdown",
   "id": "e7fd6471",
   "metadata": {},
   "source": [
    "### Lauching stata from the jupyter notebook"
   ]
  },
  {
   "cell_type": "code",
   "execution_count": 1,
   "id": "073dae8e",
   "metadata": {},
   "outputs": [],
   "source": [
    "%%capture\n",
    "import stata_setup\n",
    "import os\n",
    "os.chdir('C:\\Program Files\\Stata17/utilities')\n",
    "from pystata import config\n",
    "config.init('mp');"
   ]
  },
  {
   "cell_type": "markdown",
   "id": "9f836c47",
   "metadata": {},
   "source": [
    "### Initial set up of log file and load data"
   ]
  },
  {
   "cell_type": "code",
   "execution_count": 2,
   "id": "b176f865",
   "metadata": {},
   "outputs": [],
   "source": [
    "%%capture\n",
    "%%stata\n",
    "\n",
    "clear\n",
    "set more off, perm\n",
    "\n",
    "# redirect to workplace\n",
    "cd \"C:\\Users\\USER\\Desktop\\Charlene\\2022 Charlene at York\\Evaluation of Health Policy\\practical exercise\"\n",
    "\n",
    "# load data\n",
    "use \"evaluation.dta\", clear"
   ]
  },
  {
   "cell_type": "markdown",
   "id": "95f08c3b",
   "metadata": {},
   "source": [
    "### Create(rename) variable for treatment effect evaluation "
   ]
  },
  {
   "cell_type": "code",
   "execution_count": 3,
   "id": "a233d32d",
   "metadata": {},
   "outputs": [],
   "source": [
    "%%capture\n",
    "%%stata\n",
    "\n",
    "# create generic variable (y)\n",
    "clonevar y=health_expenditures \n",
    "label var y \"out of pocket health expenditure pc/pa\"\n",
    "clonevar d=enrolled \n",
    "label var d \"Treatment\"\n",
    "\n",
    "# Create global list of regressors\n",
    "global xs \"age_hh age_sp educ_hh educ_sp female_hh indigenous hhsize dirtfloor bathroom land hospital_distance\" "
   ]
  },
  {
   "cell_type": "markdown",
   "id": "16d8d65e",
   "metadata": {},
   "source": [
    "# Difference-in-Differecnes"
   ]
  },
  {
   "cell_type": "markdown",
   "id": "5e0d54d3",
   "metadata": {},
   "source": [
    " Assumming that the change in the health expenditures of the nonenrolled group reflects what would have happended to the expenditures of the enrolled group in the absence of the program. Here we calculate before-after comparison of <b>means for nonenrolled households</b>:  "
   ]
  },
  {
   "cell_type": "code",
   "execution_count": 4,
   "id": "89ad2596",
   "metadata": {},
   "outputs": [
    {
     "name": "stdout",
     "output_type": "stream",
     "text": [
      "\n",
      "Two-sample t test with equal variances\n",
      "------------------------------------------------------------------------------\n",
      "   Group |     Obs        Mean    Std. err.   Std. dev.   [95% conf. interval]\n",
      "---------+--------------------------------------------------------------------\n",
      "       0 |   6,949    18.37171    .0678053    5.652299    18.23879    18.50463\n",
      "       1 |   6,949    20.70746    .1340806    11.17705    20.44462     20.9703\n",
      "---------+--------------------------------------------------------------------\n",
      "Combined |  13,898    19.53959    .0757729    8.932852    19.39106    19.68811\n",
      "---------+--------------------------------------------------------------------\n",
      "    diff |           -2.335746    .1502504               -2.630257   -2.041235\n",
      "------------------------------------------------------------------------------\n",
      "    diff = mean(0) - mean(1)                                      t = -15.5457\n",
      "H0: diff = 0                                     Degrees of freedom =    13896\n",
      "\n",
      "    Ha: diff < 0                 Ha: diff != 0                 Ha: diff > 0\n",
      " Pr(T < t) = 0.0000         Pr(|T| > |t|) = 0.0000          Pr(T > t) = 1.0000\n"
     ]
    }
   ],
   "source": [
    "%%stata\n",
    "ttest health_expenditures if enrolled ==0, by(round)"
   ]
  },
  {
   "cell_type": "markdown",
   "id": "7a321082",
   "metadata": {},
   "source": [
    "From the table above we get that nonenrolled households have a baseline (before) mean of 18.37 and a follow-up (after) mean of 20.70. Then we calculate before-after comparison of <b>means for enrolled households</b>: "
   ]
  },
  {
   "cell_type": "code",
   "execution_count": 5,
   "id": "581e841c",
   "metadata": {},
   "outputs": [
    {
     "name": "stdout",
     "output_type": "stream",
     "text": [
      "\n",
      "Two-sample t test with equal variances\n",
      "------------------------------------------------------------------------------\n",
      "   Group |     Obs        Mean    Std. err.   Std. dev.   [95% conf. interval]\n",
      "---------+--------------------------------------------------------------------\n",
      "       0 |   2,964    14.48969    .0800166    4.356317     14.3328    14.64659\n",
      "       1 |   2,965    7.840179    .1468178    7.994495    7.552304    8.128054\n",
      "---------+--------------------------------------------------------------------\n",
      "Combined |   5,929    11.16438    .0940975    7.245509    10.97991    11.34884\n",
      "---------+--------------------------------------------------------------------\n",
      "    diff |            6.649515    .1672221                6.321699    6.977331\n",
      "------------------------------------------------------------------------------\n",
      "    diff = mean(0) - mean(1)                                      t =  39.7646\n",
      "H0: diff = 0                                     Degrees of freedom =     5927\n",
      "\n",
      "    Ha: diff < 0                 Ha: diff != 0                 Ha: diff > 0\n",
      " Pr(T < t) = 1.0000         Pr(|T| > |t|) = 0.0000          Pr(T > t) = 0.0000\n"
     ]
    }
   ],
   "source": [
    "%%stata\n",
    "ttest health_expenditures if enrolled ==1, by(round)"
   ]
  },
  {
   "cell_type": "markdown",
   "id": "372c67bb",
   "metadata": {},
   "source": [
    "From the table above we het that enrolled households have a baseline (before) mean of 14.49 and a follow-up(after) mean of 7.84.  Next we estimate the effect using a <b>simple linear regression</b> to compute the simple DiD estimate:"
   ]
  },
  {
   "cell_type": "code",
   "execution_count": 6,
   "id": "753262e8",
   "metadata": {},
   "outputs": [
    {
     "name": "stdout",
     "output_type": "stream",
     "text": [
      "\n",
      "DIFFERENCE-IN-DIFFERENCES ESTIMATION RESULTS\n",
      "--------------------------------------------\n",
      "Number of observations in the DIFF-IN-DIFF: 19827\n",
      "            Before         After    \n",
      "   Control: 6949           6949        13898\n",
      "   Treated: 2964           2965        5929\n",
      "            9913           9914\n",
      "--------------------------------------------------------\n",
      " Outcome var.   | y       | S. Err. |   |t|   |  P>|t|\n",
      "----------------+---------+---------+---------+---------\n",
      "Before          |         |         |         | \n",
      "   Control      | 18.372  |         |         | \n",
      "   Treated      | 14.490  |         |         | \n",
      "   Diff (T-C)   | -3.882  | 0.180   | -21.56  | 0.000***\n",
      "After           |         |         |         | \n",
      "   Control      | 20.707  |         |         | \n",
      "   Treated      | 7.840   |         |         | \n",
      "   Diff (T-C)   | -12.867 | 0.180   | 71.46   | 0.000***\n",
      "                |         |         |         | \n",
      "Diff-in-Diff    | -8.985  | 0.255   | 35.28   | 0.000***\n",
      "--------------------------------------------------------\n",
      "R-square:    0.22\n",
      "* Means and Standard Errors are estimated by linear regression\n",
      "**Inference: *** p<0.01; ** p<0.05; * p<0.1\n"
     ]
    }
   ],
   "source": [
    "%%stata\n",
    "diff y, t(d) p(round)"
   ]
  },
  {
   "cell_type": "markdown",
   "id": "521f84d6",
   "metadata": {},
   "source": [
    "Using a simple linear regression to compute the simple DiD sestimatem, I find that the program reduced household expenditures by US$8.985. I then refine my analysis by adding additional control variables. In other words, I use a <b>mutivariate linear regression</b> that takes into accoutn a host of other factors:"
   ]
  },
  {
   "cell_type": "code",
   "execution_count": 7,
   "id": "cb339b74",
   "metadata": {},
   "outputs": [
    {
     "name": "stdout",
     "output_type": "stream",
     "text": [
      "DIFFERENCE-IN-DIFFERENCES WITH COVARIATES\n",
      "-----------------------------------------\n",
      "\n",
      "DIFFERENCE-IN-DIFFERENCES ESTIMATION RESULTS\n",
      "--------------------------------------------\n",
      "Number of observations in the DIFF-IN-DIFF: 19827\n",
      "            Before         After    \n",
      "   Control: 6949           6949        13898\n",
      "   Treated: 2964           2965        5929\n",
      "            9913           9914\n",
      "--------------------------------------------------------\n",
      " Outcome var.   | y       | S. Err. |   |t|   |  P>|t|\n",
      "----------------+---------+---------+---------+---------\n",
      "Before          |         |         |         | \n",
      "   Control      | 26.154  |         |         | \n",
      "   Treated      | 25.325  |         |         | \n",
      "   Diff (T-C)   | -0.829  | 0.147   | -5.65   | 0.000***\n",
      "After           |         |         |         | \n",
      "   Control      | 28.418  |         |         | \n",
      "   Treated      | 18.604  |         |         | \n",
      "   Diff (T-C)   | -9.814  | 0.147   | 66.91   | 0.000***\n",
      "                |         |         |         | \n",
      "Diff-in-Diff    | -8.985  | 0.202   | 44.48   | 0.000***\n",
      "--------------------------------------------------------\n",
      "R-square:    0.51\n",
      "* Means and Standard Errors are estimated by linear regression\n",
      "**Inference: *** p<0.01; ** p<0.05; * p<0.1\n"
     ]
    }
   ],
   "source": [
    "%%stata\n",
    "diff y, t(d) p(round) cov($xs)"
   ]
  },
  {
   "cell_type": "markdown",
   "id": "cecbd9d6",
   "metadata": {},
   "source": [
    "From the multivariate linear regression result, I find the same reduction in household health expenditure. "
   ]
  },
  {
   "cell_type": "markdown",
   "id": "4343fcb6",
   "metadata": {},
   "source": [
    "# Questions"
   ]
  },
  {
   "cell_type": "markdown",
   "id": "ce864cf4",
   "metadata": {},
   "source": [
    "### What are the basic assumptions required to accept this result from difference-in-differences?"
   ]
  },
  {
   "cell_type": "markdown",
   "id": "989f6b1e",
   "metadata": {},
   "source": [
    "To accept this result, <b>we assume that there are no differential time varying factors between the two groups other than the program.</b> We assume that the treatment and comparison groups would have equal trends or changes in outcomes in the absence of treatment.  While this assumption can’t be tested in the postintervention period, we can compare trends before the intervention starts."
   ]
  },
  {
   "cell_type": "markdown",
   "id": "bab83cf8",
   "metadata": {},
   "source": [
    "### Based on the result from difference-in-differences, should HISP be scaled up nationally?"
   ]
  },
  {
   "cell_type": "markdown",
   "id": "dd84def8",
   "metadata": {},
   "source": [
    "No, based on this result, the HISP should not be scaled up nationally because it has decreased health expenditures by less than the $10 threshold level. Taking the estimated impact under random assignment as the “true” impact of the program suggests that the difference in difference estimate may be biased. In fact, in this case, using the nonenrolled households as a comparison group does not accurately represent the counterfactual trend in health expenditures. "
   ]
  },
  {
   "cell_type": "markdown",
   "id": "8320ed05",
   "metadata": {},
   "source": [
    "# Additional Commend  "
   ]
  },
  {
   "cell_type": "markdown",
   "id": "c64ba33c",
   "metadata": {},
   "source": [
    "### 1. Estimating a fixed effects regression with <code>xtest</code>"
   ]
  },
  {
   "cell_type": "code",
   "execution_count": 8,
   "id": "6e9453ec",
   "metadata": {},
   "outputs": [
    {
     "name": "stdout",
     "output_type": "stream",
     "text": [
      "\n",
      ". qui xtset household_identifier round \n",
      "\n",
      ". qui gen treated = d*round\n",
      "\n",
      ". xtreg y treated round, fe\n",
      "\n",
      "Fixed-effects (within) regression               Number of obs     =     19,827\n",
      "Group variable: household_~r                    Number of groups  =      9,914\n",
      "\n",
      "R-squared:                                      Obs per group:\n",
      "     Within  = 0.1698                                         min =          1\n",
      "     Between = 0.2401                                         avg =        2.0\n",
      "     Overall = 0.2013                                         max =          2\n",
      "\n",
      "                                                F(2,9911)         =    1013.79\n",
      "corr(u_i, Xb) = 0.1779                          Prob > F          =     0.0000\n",
      "\n",
      "------------------------------------------------------------------------------\n",
      "           y | Coefficient  Std. err.      t    P>|t|     [95% conf. interval]\n",
      "-------------+----------------------------------------------------------------\n",
      "     treated |  -8.985667   .2002792   -44.87   0.000    -9.378255   -8.593079\n",
      "       round |   2.335746   .1095147    21.33   0.000     2.121075    2.550417\n",
      "       _cons |   17.21091   .0648368   265.45   0.000     17.08382      17.338\n",
      "-------------+----------------------------------------------------------------\n",
      "     sigma_u |   7.049476\n",
      "     sigma_e |  6.4553311\n",
      "         rho |  .54391007   (fraction of variance due to u_i)\n",
      "------------------------------------------------------------------------------\n",
      "F test that all u_i=0: F(9913, 9911) = 2.31                  Prob > F = 0.0000\n",
      "\n",
      ". \n"
     ]
    }
   ],
   "source": [
    "%%stata\n",
    "qui xtset household_identifier round \n",
    "qui gen treated = d*round\n",
    "xtreg y treated round, fe"
   ]
  },
  {
   "cell_type": "markdown",
   "id": "92504348",
   "metadata": {},
   "source": [
    "### 2. Estimating DiD with <code>xtdidregress </code>"
   ]
  },
  {
   "cell_type": "code",
   "execution_count": 10,
   "id": "08e2041f",
   "metadata": {},
   "outputs": [
    {
     "name": "stdout",
     "output_type": "stream",
     "text": [
      "\n",
      "Number of groups and treatment time\n",
      "\n",
      "Time variable: round\n",
      "Control:       treated = 0\n",
      "Treatment:     treated = 1\n",
      "-----------------------------------\n",
      "             |   Control  Treatment\n",
      "-------------+---------------------\n",
      "Group        |\n",
      "           d |         1          1\n",
      "-------------+---------------------\n",
      "Time         |\n",
      "     Minimum |         0          1\n",
      "     Maximum |         0          1\n",
      "-----------------------------------\n",
      "\n",
      "Difference-in-differences regression                    Number of obs = 19,827\n",
      "Data type: Longitudinal\n",
      "\n",
      "                                      (Std. err. adjusted for 2 clusters in d)\n",
      "------------------------------------------------------------------------------\n",
      "             |               Robust\n",
      "           y | Coefficient  std. err.      t    P>|t|     [95% conf. interval]\n",
      "-------------+----------------------------------------------------------------\n",
      "ATET         |\n",
      "     treated |\n",
      "   (1 vs 0)  |  -8.985667   1.29e-15 -7.0e+15   0.000    -8.985667   -8.985667\n",
      "------------------------------------------------------------------------------\n",
      "Note: ATET estimate adjusted for panel effects and time effects.\n"
     ]
    }
   ],
   "source": [
    "%%stata\n",
    "xtdidregress (y) (treated), group(d) time(round)"
   ]
  }
 ],
 "metadata": {
  "kernelspec": {
   "display_name": "Python 3 (ipykernel)",
   "language": "python",
   "name": "python3"
  },
  "language_info": {
   "codemirror_mode": {
    "name": "ipython",
    "version": 3
   },
   "file_extension": ".py",
   "mimetype": "text/x-python",
   "name": "python",
   "nbconvert_exporter": "python",
   "pygments_lexer": "ipython3",
   "version": "3.9.12"
  }
 },
 "nbformat": 4,
 "nbformat_minor": 5
}
